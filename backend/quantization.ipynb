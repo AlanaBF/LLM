{
 "cells": [
  {
   "cell_type": "code",
   "execution_count": 1,
   "metadata": {},
   "outputs": [],
   "source": [
    "import time\n",
    "from transformers import T5Tokenizer, T5ForConditionalGeneration\n",
    "import torch\n",
    "import platform"
   ]
  },
  {
   "cell_type": "code",
   "execution_count": 2,
   "metadata": {},
   "outputs": [],
   "source": [
    "\n",
    "\n",
    "if platform.system() == 'Darwin':  # macOS\n",
    "    torch.backends.quantized.engine = 'qnnpack'\n",
    "elif platform.system() == 'Windows':  # Windows\n",
    "    torch.backends.quantized.engine = 'fbgemm'\n",
    "else:\n",
    "    print(\"Unsupported platform for quantization engine\")\n",
    "\n"
   ]
  },
  {
   "cell_type": "code",
   "execution_count": 3,
   "metadata": {},
   "outputs": [
    {
     "name": "stderr",
     "output_type": "stream",
     "text": [
      "You are using the default legacy behaviour of the <class 'transformers.models.t5.tokenization_t5.T5Tokenizer'>. This is expected, and simply means that the `legacy` (previous) behavior will be used so nothing changes for you. If you want to use the new behaviour, set `legacy=False`. This should only be set if you understand what it means, and thoroughly read the reason why this was added as explained in https://github.com/huggingface/transformers/pull/24565\n",
      "Special tokens have been added in the vocabulary, make sure the associated word embeddings are fine-tuned or trained.\n"
     ]
    }
   ],
   "source": [
    "# Load the model\n",
    "model = T5ForConditionalGeneration.from_pretrained('t5-large')\n",
    "tokenizer = T5Tokenizer.from_pretrained('t5-large')"
   ]
  },
  {
   "cell_type": "code",
   "execution_count": 4,
   "metadata": {},
   "outputs": [
    {
     "name": "stdout",
     "output_type": "stream",
     "text": [
      "Applying quantization...\n",
      "Applied quantization in 4.06 seconds\n",
      "Quantized model saved successfully.\n"
     ]
    }
   ],
   "source": [
    "\n",
    "\n",
    "# Apply dynamic quantization\n",
    "start_time = time.time()\n",
    "print(\"Applying quantization...\")\n",
    "quantized_model = torch.quantization.quantize_dynamic(\n",
    "    model, {torch.nn.Linear}, dtype=torch.qint8  # Quantize the linear layers\n",
    ")\n",
    "print(f\"Applied quantization in {time.time() - start_time:.2f} seconds\")\n",
    "\n",
    "# Save the quantized model's state dictionary\n",
    "torch.save(quantized_model.state_dict(), 'quantized_t5_large.pth')\n",
    "print(\"Quantized model saved successfully.\")\n",
    "\n",
    "# Define the tokenizer\n",
    "quantized_tokenizer = tokenizer"
   ]
  },
  {
   "cell_type": "code",
   "execution_count": 5,
   "metadata": {},
   "outputs": [
    {
     "name": "stdout",
     "output_type": "stream",
     "text": [
      "Generating translation...\n"
     ]
    },
    {
     "name": "stderr",
     "output_type": "stream",
     "text": [
      "[W803 09:55:55.057225000 qlinear_dynamic.cpp:250] Warning: Currently, qnnpack incorrectly ignores reduce_range when it is set to true; this may change in a future release. (function operator())\n"
     ]
    },
    {
     "name": "stdout",
     "output_type": "stream",
     "text": [
      "Generated translation in 3.67 seconds\n",
      "Translation: Mon nom est Alana\n"
     ]
    }
   ],
   "source": [
    "\n",
    "# Generate translation\n",
    "input_text = \"translate English to French: My name is Alana\"\n",
    "input_ids = quantized_tokenizer(input_text, return_tensors=\"pt\").input_ids\n",
    "\n",
    "start_time = time.time()\n",
    "print(\"Generating translation...\")\n",
    "outputs = quantized_model.generate(input_ids, max_new_tokens=50)\n",
    "translation = quantized_tokenizer.decode(outputs[0], skip_special_tokens=True)\n",
    "print(f\"Generated translation in {time.time() - start_time:.2f} seconds\")\n",
    "print(\"Translation:\", translation)"
   ]
  }
 ],
 "metadata": {
  "kernelspec": {
   "display_name": "Python 3",
   "language": "python",
   "name": "python3"
  },
  "language_info": {
   "codemirror_mode": {
    "name": "ipython",
    "version": 3
   },
   "file_extension": ".py",
   "mimetype": "text/x-python",
   "name": "python",
   "nbconvert_exporter": "python",
   "pygments_lexer": "ipython3",
   "version": "3.11.9"
  }
 },
 "nbformat": 4,
 "nbformat_minor": 2
}
