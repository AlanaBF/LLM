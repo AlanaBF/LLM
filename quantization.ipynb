{
 "cells": [
  {
   "cell_type": "code",
   "execution_count": 27,
   "metadata": {},
   "outputs": [],
   "source": [
    "import time\n",
    "import torch\n",
    "from transformers import T5Tokenizer, T5ForConditionalGeneration"
   ]
  },
  {
   "cell_type": "code",
   "execution_count": 28,
   "metadata": {},
   "outputs": [],
   "source": [
    "# Set the quantization backend to 'qnnpack'\n",
    "torch.backends.quantized.engine = 'qnnpack'\n"
   ]
  },
  {
   "cell_type": "code",
   "execution_count": 29,
   "metadata": {},
   "outputs": [],
   "source": [
    "# Load the model\n",
    "model = T5ForConditionalGeneration.from_pretrained('t5-large')\n",
    "tokenizer = T5Tokenizer.from_pretrained('t5-large')"
   ]
  },
  {
   "cell_type": "code",
   "execution_count": 30,
   "metadata": {},
   "outputs": [
    {
     "name": "stdout",
     "output_type": "stream",
     "text": [
      "Applying quantization...\n",
      "Applied quantization in 1.71 seconds\n",
      "Quantized model saved successfully.\n"
     ]
    }
   ],
   "source": [
    "\n",
    "\n",
    "# Apply dynamic quantization\n",
    "start_time = time.time()\n",
    "print(\"Applying quantization...\")\n",
    "quantized_model = torch.quantization.quantize_dynamic(\n",
    "    model, {torch.nn.Linear}, dtype=torch.qint8  # Quantize the linear layers\n",
    ")\n",
    "print(f\"Applied quantization in {time.time() - start_time:.2f} seconds\")\n",
    "\n",
    "# Save the quantized model's state dictionary\n",
    "torch.save(quantized_model.state_dict(), 'quantized_t5_large.pth')\n",
    "print(\"Quantized model saved successfully.\")\n",
    "\n",
    "# Define the tokenizer\n",
    "quantized_tokenizer = tokenizer"
   ]
  },
  {
   "cell_type": "code",
   "execution_count": 31,
   "metadata": {},
   "outputs": [
    {
     "name": "stdout",
     "output_type": "stream",
     "text": [
      "Generating translation...\n"
     ]
    },
    {
     "name": "stderr",
     "output_type": "stream",
     "text": [
      "[W731 20:54:22.433376000 qlinear_dynamic.cpp:250] Warning: Currently, qnnpack incorrectly ignores reduce_range when it is set to true; this may change in a future release. (function operator())\n"
     ]
    },
    {
     "name": "stdout",
     "output_type": "stream",
     "text": [
      "Generated translation in 1.86 seconds\n",
      "Translation: Mon nom est Alana\n"
     ]
    }
   ],
   "source": [
    "\n",
    "# Generate translation\n",
    "input_text = \"translate English to French: My name is Alana\"\n",
    "input_ids = quantized_tokenizer(input_text, return_tensors=\"pt\").input_ids\n",
    "\n",
    "start_time = time.time()\n",
    "print(\"Generating translation...\")\n",
    "outputs = quantized_model.generate(input_ids, max_new_tokens=50)\n",
    "translation = quantized_tokenizer.decode(outputs[0], skip_special_tokens=True)\n",
    "print(f\"Generated translation in {time.time() - start_time:.2f} seconds\")\n",
    "print(\"Translation:\", translation)"
   ]
  }
 ],
 "metadata": {
  "kernelspec": {
   "display_name": "Python 3",
   "language": "python",
   "name": "python3"
  },
  "language_info": {
   "codemirror_mode": {
    "name": "ipython",
    "version": 3
   },
   "file_extension": ".py",
   "mimetype": "text/x-python",
   "name": "python",
   "nbconvert_exporter": "python",
   "pygments_lexer": "ipython3",
   "version": "3.11.6"
  }
 },
 "nbformat": 4,
 "nbformat_minor": 2
}
