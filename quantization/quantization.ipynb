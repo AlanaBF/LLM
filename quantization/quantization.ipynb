{
 "cells": [
  {
   "cell_type": "code",
   "execution_count": null,
   "metadata": {},
   "outputs": [],
   "source": [
    "# Install the necessary libraries, including SentencePiece\n",
    "%pip install torch \n",
    "%pip install transformers \n",
    "%pip install sentencepiece\n",
    "\n",
    "# Import required libraries\n",
    "import torch\n",
    "from transformers import T5Tokenizer, T5ForConditionalGeneration\n",
    "\n",
    "# Step 1: Load the T5-large model and tokenizer\n",
    "print(\"Loading the T5-large model and tokenizer...\")\n",
    "tokenizer = T5Tokenizer.from_pretrained(\"t5-large\")\n",
    "model = T5ForConditionalGeneration.from_pretrained(\"t5-large\")\n",
    "\n",
    "# Step 2: Apply dynamic quantization to the model\n",
    "print(\"Applying quantization...\")\n",
    "quantized_model = torch.quantization.quantize_dynamic(\n",
    "    model, {torch.nn.Linear}, dtype=torch.qint8  # Quantize the linear layers\n",
    ")\n",
    "\n",
    "# Step 3: Save the quantized model and tokenizer to the quantization folder\n",
    "save_directory = \"quantization/quantized_t5_large\"\n",
    "print(f\"Saving the quantized model to {save_directory}...\")\n",
    "quantized_model.save_pretrained(save_directory)\n",
    "tokenizer.save_pretrained(save_directory)\n",
    "\n",
    "# Step 4: Load and use the quantized model from the quantization folder\n",
    "print(\"Loading the quantized model for inference...\")\n",
    "quantized_tokenizer = T5Tokenizer.from_pretrained(save_directory)\n",
    "quantized_model = T5ForConditionalGeneration.from_pretrained(save_directory)\n",
    "\n",
    "# Example: Translate a sentence from English to French\n",
    "input_text = \"translate English to French: My name is Alana\"\n",
    "input_ids = quantized_tokenizer(input_text, return_tensors=\"pt\").input_ids\n",
    "\n",
    "print(\"Generating translation...\")\n",
    "outputs = quantized_model.generate(input_ids, max_new_tokens=50)\n",
    "translation = quantized_tokenizer.decode(outputs[0], skip_special_tokens=True)\n",
    "print(\"Translation:\", translation)"
   ]
  }
 ],
 "metadata": {
  "kernelspec": {
   "display_name": "Python 3",
   "language": "python",
   "name": "python3"
  },
  "language_info": {
   "codemirror_mode": {
    "name": "ipython",
    "version": 3
   },
   "file_extension": ".py",
   "mimetype": "text/x-python",
   "name": "python",
   "nbconvert_exporter": "python",
   "pygments_lexer": "ipython3",
   "version": "3.11.6"
  }
 },
 "nbformat": 4,
 "nbformat_minor": 2
}
